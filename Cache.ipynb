{
 "cells": [
  {
   "cell_type": "code",
   "execution_count": 20,
   "metadata": {},
   "outputs": [
    {
     "name": "stdout",
     "output_type": "stream",
     "text": [
      "DataScience\n"
     ]
    }
   ],
   "source": [
    "'''\n",
    "To cache frequent tweets of the users.It Stores as a  key-value pairs where the cache key is a unique identifier \n",
    "for each object in the cache. when the request generates a key exists in cache , then the response would be returned from cache\n",
    "else we make a live call to DB .\n",
    "'''\n",
    "import time\n",
    "\n",
    "# Exception class\n",
    "class ArgumentsError(Exception):\n",
    "    def __init__(self, message):\n",
    "        self.message = message\n",
    "\n",
    "class TwitterCache:\n",
    "    def __init__(self, ttl=60):        \n",
    "        self.ttl = ttl\n",
    "        self.cache = {}\n",
    "        \n",
    "    def save_latest_tweets_InCache(self, key, value):\n",
    "        now = time.time()\n",
    "        self.cache[key] = {'value': value, 'time': now}\n",
    "\n",
    "    def get_user_tweets_FromCache(self, user_id):\n",
    "        now = time.time()\n",
    "        if user_id in self.cache and now - self.cache[user_id]['time'] < self.ttl:\n",
    "            return self.cache[user_id]['value']\n",
    "        \n",
    "\n",
    "    def delete_user_timeline(self, user_id):\n",
    "        if user_id in self.cache:\n",
    "            del self.cache[user_id]\n",
    "            \n",
    "    def get_user_timeline(self, user_id):\n",
    "        response = self.get_user_tweets_FromCache(user_id)\n",
    "        if (response != null or response.isEmpty()):\n",
    "            return response        \n",
    "        else:\n",
    "            # write code to make a DB call \n",
    "            print(\"Make a call to DB to fetch the user details\") \n",
    "            \n",
    "    \n",
    "\n",
    "\n",
    "if __name__ == '__main__':\n",
    "        \n",
    "        twitterCache = TwitterCache()\n",
    "        twitterCache.save_latest_tweets_InCache(1,\"Priyanka\")\n",
    "        twitterCache.save_latest_tweets_InCache(2,\"DataScience\")\n",
    "        print(twitterCache.get_user_tweets_FromCache(2))\n",
    "    \n",
    "    \n",
    "\n",
    "     "
   ]
  },
  {
   "cell_type": "code",
   "execution_count": null,
   "metadata": {},
   "outputs": [],
   "source": []
  }
 ],
 "metadata": {
  "kernelspec": {
   "display_name": "Python 3",
   "language": "python",
   "name": "python3"
  },
  "language_info": {
   "codemirror_mode": {
    "name": "ipython",
    "version": 3
   },
   "file_extension": ".py",
   "mimetype": "text/x-python",
   "name": "python",
   "nbconvert_exporter": "python",
   "pygments_lexer": "ipython3",
   "version": "3.6.5"
  }
 },
 "nbformat": 4,
 "nbformat_minor": 2
}
