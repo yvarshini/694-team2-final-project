{
 "cells": [
  {
   "cell_type": "markdown",
   "metadata": {},
   "source": [
    "User info I extracted:  \n",
    "(data dictionary: https://developer.twitter.com/en/docs/twitter-api/v1/data-dictionary/object-model/tweet)\n",
    "* 'id'\n",
    "* 'name'\n",
    "* 'screen_name'\n",
    "* 'location'\n",
    "* 'created_at'\n",
    "* 'followers_count'\n",
    "* 'friends_count'      (\n",
    "* 'statuses_count'     (The total number of tweets that the account has posted.)\n",
    "* 'favourites_count'   (The total number of tweets that the account has liked.)\n"
   ]
  },
  {
   "cell_type": "markdown",
   "metadata": {},
   "source": [
    "# Set up your PostgreSQL server\n",
    "1.    Download and install Postgres.app from https://postgresapp.com/\n",
    "2.   Open Postgres.app, toggle \"start\".\n",
    "3.   Execute the code below to extract the records. Ensure that the files \"corona-out-3\" and \"corona-out-3\" are placed in the same working directory."
   ]
  },
  {
   "cell_type": "code",
   "execution_count": 1,
   "metadata": {},
   "outputs": [],
   "source": [
    "import psycopg2\n",
    "import getpass"
   ]
  },
  {
   "cell_type": "code",
   "execution_count": 2,
   "metadata": {},
   "outputs": [],
   "source": [
    "# prompting username input from the user\n",
    "username = getpass.getuser()"
   ]
  },
  {
   "cell_type": "code",
   "execution_count": 3,
   "metadata": {},
   "outputs": [
    {
     "data": {
      "text/plain": [
       "'varshiniyanamandra'"
      ]
     },
     "execution_count": 3,
     "metadata": {},
     "output_type": "execute_result"
    }
   ],
   "source": [
    "# printing the username used\n",
    "username"
   ]
  },
  {
   "cell_type": "code",
   "execution_count": 4,
   "metadata": {},
   "outputs": [
    {
     "name": "stdout",
     "output_type": "stream",
     "text": [
      "PostgreSQL server information\n",
      "{'user': 'varshiniyanamandra', 'passfile': '/Users/varshiniyanamandra/.pgpass', 'dbname': 'twitter', 'host': 'localhost', 'port': '5432', 'tty': '', 'options': '', 'sslmode': 'prefer', 'sslcompression': '0', 'gssencmode': 'prefer', 'krbsrvname': 'postgres', 'target_session_attrs': 'any'} \n",
      "\n"
     ]
    }
   ],
   "source": [
    "# Connect to the default \"postgres\" database to perform operations on databases\n",
    "conn = psycopg2.connect(\n",
    "    dbname=\"postgres\",\n",
    "    user=username,  # Only replace with your system user name\n",
    "    password=\"\",\n",
    "    host=\"localhost\",\n",
    "    port=\"5432\")\n",
    "\n",
    "# Open a cursor to perform database operations\n",
    "cur = conn.cursor()\n",
    "\n",
    "# Check if the \"twitter\" database exists\n",
    "cur.execute(\"SELECT 1 FROM pg_database WHERE datname = 'twitter';\")\n",
    "exists = cur.fetchone()\n",
    "\n",
    "# Close the cursor and connection\n",
    "cur.close()\n",
    "conn.close()\n",
    "\n",
    "if exists:\n",
    "    # Create a new connection with autocommit enabled\n",
    "    conn = psycopg2.connect(\n",
    "        dbname=\"postgres\",\n",
    "        user=username,  # Only replace with your system user name\n",
    "        password=\"\",\n",
    "        host=\"localhost\",\n",
    "        port=\"5432\")\n",
    "    conn.autocommit = True\n",
    "\n",
    "    # Open a cursor to perform database operations\n",
    "    cur = conn.cursor()\n",
    "\n",
    "    # Drop and recreate the \"twitter\" database\n",
    "    cur.execute(\"DROP DATABASE twitter;\")\n",
    "    cur.execute(\"CREATE DATABASE twitter;\")\n",
    "\n",
    "    # Close the cursor and connection\n",
    "    cur.close()\n",
    "    conn.close()\n",
    "else:\n",
    "    # Create a new connection with autocommit enabled\n",
    "    conn = psycopg2.connect(\n",
    "        dbname=\"postgres\",\n",
    "        user=username,  # Only replace with your system user name\n",
    "        password=\"\",\n",
    "        host=\"localhost\",\n",
    "        port=\"5432\")\n",
    "    conn.autocommit = True\n",
    "\n",
    "    # Open a cursor to perform database operations\n",
    "    cur = conn.cursor()\n",
    "\n",
    "    # create a new database named 'twitter'\n",
    "    cur.execute(\"CREATE DATABASE twitter;\")\n",
    "\n",
    "    # Close the cursor and connection\n",
    "    cur.close()\n",
    "    conn.close()\n",
    "\n",
    "# Connect to the newly created \"twitter\" database\n",
    "conn = psycopg2.connect(\n",
    "    dbname=\"twitter\",\n",
    "    user=username,  # Only replace with your system user name\n",
    "    password=\"\",\n",
    "    host=\"localhost\",\n",
    "    port=\"5432\")\n",
    "\n",
    "# Open a cursor to perform further database operations\n",
    "cur = conn.cursor()\n",
    "\n",
    "print(\"PostgreSQL server information\")\n",
    "print(conn.get_dsn_parameters(), \"\\n\")\n"
   ]
  },
  {
   "cell_type": "code",
   "execution_count": 5,
   "metadata": {},
   "outputs": [],
   "source": [
    "# Create the User table if it doesn't already exist\n",
    "cur.execute('''\n",
    "    CREATE TABLE IF NOT EXISTS TwitterUser (\n",
    "        id BIGINT PRIMARY KEY,\n",
    "        name TEXT,\n",
    "        screen_name TEXT,\n",
    "        location TEXT,\n",
    "        created_at TIMESTAMP,\n",
    "        followers_count INTEGER,\n",
    "        friends_count INTEGER,\n",
    "        statuses_count INTEGER,\n",
    "        favourites_count INTEGER\n",
    "    );\n",
    "''')\n",
    "conn.commit()  "
   ]
  },
  {
   "cell_type": "code",
   "execution_count": 6,
   "metadata": {
    "scrolled": false
   },
   "outputs": [
    {
     "name": "stdout",
     "output_type": "stream",
     "text": [
      "No data\n",
      "Number of user IDs: 0\n"
     ]
    }
   ],
   "source": [
    "def view_users(conn):\n",
    "        try:\n",
    "            cur.execute(\"SELECT * FROM TwitterUser;\")\n",
    "            users = cur.fetchall()\n",
    "            if len(users)==0:\n",
    "                print(\"No data\")\n",
    "            print(\"Number of user IDs:\",len(users))\n",
    "        except Exception as e:\n",
    "            print(f\"An error occurred: {e}\")\n",
    "            conn.rollback()\n",
    "\n",
    "# Use this function to view the data in the TwitterUser table\n",
    "view_users(conn)"
   ]
  },
  {
   "cell_type": "code",
   "execution_count": 7,
   "metadata": {},
   "outputs": [],
   "source": [
    "import psycopg2\n",
    "import json\n",
    "\n",
    "def insert_user(cur, user_info):\n",
    "        try:\n",
    "            # Check if the user already exists in the database\n",
    "            cur.execute(\"SELECT id FROM TwitterUser WHERE id = %s;\", (user_info[\"id\"],))\n",
    "            if cur.fetchone() is None:\n",
    "                # If the user does not exist, insert their information into the TwitterUser table\n",
    "                cur.execute(\"\"\"\n",
    "                    INSERT INTO TwitterUser (id, name, screen_name, location, created_at, followers_count, friends_count, statuses_count, favourites_count)\n",
    "                    VALUES (%s, %s, %s, %s, %s, %s, %s, %s, %s);\n",
    "                \"\"\", (user_info[\"id\"], user_info[\"name\"], user_info[\"screen_name\"], user_info[\"location\"], user_info[\"created_at\"], user_info[\"followers_count\"], user_info[\"friends_count\"], user_info[\"statuses_count\"], user_info[\"favourites_count\"]))\n",
    "                conn.commit()\n",
    "        except Exception as e:\n",
    "            print(f\"An error occurred: {e}\")\n",
    "            conn.rollback()\n",
    "\n",
    "def insert_records(file):\n",
    "    with open(file, \"r\") as f1:\n",
    "        for line in f1:\n",
    "            try:\n",
    "                tweet = json.loads(line)\n",
    "\n",
    "                # Extract the user information from the tweet\n",
    "                user_info = tweet[\"user\"]\n",
    "                # Insert the user information into the User table\n",
    "                insert_user(cur, user_info)\n",
    "\n",
    "                # Check if the tweet is a retweet\n",
    "                if \"retweeted_status\" in tweet:\n",
    "                    # Extract the original tweet's user information\n",
    "                    original_user_info = tweet[\"retweeted_status\"][\"user\"]\n",
    "                    # Insert the original tweet's user information into the User table\n",
    "                    insert_user(cur, original_user_info)\n",
    "\n",
    "            except:\n",
    "                # if there is an error loading the json of the tweet, skip\n",
    "                continue\n"
   ]
  },
  {
   "cell_type": "code",
   "execution_count": 8,
   "metadata": {},
   "outputs": [],
   "source": [
    "#insert_records(\"corona-out-2\")"
   ]
  },
  {
   "cell_type": "code",
   "execution_count": 9,
   "metadata": {},
   "outputs": [],
   "source": [
    "#view_users(conn)"
   ]
  },
  {
   "cell_type": "code",
   "execution_count": 10,
   "metadata": {},
   "outputs": [],
   "source": [
    "# cur.execute(\"SELECT * FROM TwitterUser;\")\n",
    "# users=cur.fetchall()\n",
    "# for people in users:\n",
    "#     print(people)"
   ]
  },
  {
   "cell_type": "code",
   "execution_count": 11,
   "metadata": {},
   "outputs": [],
   "source": [
    "insert_records(\"corona-out-3\")"
   ]
  },
  {
   "cell_type": "code",
   "execution_count": 12,
   "metadata": {},
   "outputs": [
    {
     "name": "stdout",
     "output_type": "stream",
     "text": [
      "Number of user IDs: 88068\n"
     ]
    }
   ],
   "source": [
    "view_users(conn)"
   ]
  },
  {
   "cell_type": "code",
   "execution_count": 13,
   "metadata": {},
   "outputs": [],
   "source": [
    "# # Transform the data into a DataFrame for improved visualization and readability. \n",
    "\n",
    "# import pandas as pd\n",
    "# from sqlalchemy import create_engine\n",
    "\n",
    "# # Create an SQLAlchemy engine using the psycopg2 connection string\n",
    "# url = \"postgresql+psycopg2://\" + username + \":@localhost:5432/twitter\"\n",
    "# # engine = create_engine(\"postgresql+psycopg2://varshiniyanamandra:@localhost:5432/twitter\")\n",
    "# engine = create_engine(url)\n",
    "\n",
    "# def get_twitter_users_dataframe(engine):\n",
    "#     query = \"SELECT * FROM TwitterUser;\"\n",
    "#     df = pd.read_sql_query(query, engine)\n",
    "#     return df\n",
    "\n",
    "# # Fetch the data and convert it into a DataFrame\n",
    "# user_df = get_twitter_users_dataframe(engine)\n"
   ]
  },
  {
   "cell_type": "code",
   "execution_count": 14,
   "metadata": {
    "scrolled": true
   },
   "outputs": [],
   "source": [
    "# user_df.head(20)"
   ]
  },
  {
   "cell_type": "code",
   "execution_count": 15,
   "metadata": {},
   "outputs": [],
   "source": [
    "cur.close()\n",
    "conn.close()"
   ]
  }
 ],
 "metadata": {
  "kernelspec": {
   "display_name": "Python 3.9.13 ('.venv': venv)",
   "language": "python",
   "name": "python3"
  },
  "language_info": {
   "codemirror_mode": {
    "name": "ipython",
    "version": 3
   },
   "file_extension": ".py",
   "mimetype": "text/x-python",
   "name": "python",
   "nbconvert_exporter": "python",
   "pygments_lexer": "ipython3",
   "version": "3.9.13"
  },
  "toc": {
   "base_numbering": 1,
   "nav_menu": {},
   "number_sections": true,
   "sideBar": true,
   "skip_h1_title": false,
   "title_cell": "Table of Contents",
   "title_sidebar": "Contents",
   "toc_cell": false,
   "toc_position": {},
   "toc_section_display": true,
   "toc_window_display": false
  },
  "vscode": {
   "interpreter": {
    "hash": "a58abfc0a7e00544aa0865de436a46ff5d623065a7bb5042b88f22cc5a6fce75"
   }
  }
 },
 "nbformat": 4,
 "nbformat_minor": 2
}
